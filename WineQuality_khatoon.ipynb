{
  "nbformat": 4,
  "nbformat_minor": 0,
  "metadata": {
    "colab": {
      "provenance": []
    },
    "kernelspec": {
      "name": "python3",
      "display_name": "Python 3"
    },
    "language_info": {
      "name": "python"
    }
  },
  "cells": [
    {
      "cell_type": "code",
      "execution_count": 13,
      "metadata": {
        "id": "cnRSb7S74lpp"
      },
      "outputs": [],
      "source": [
        "#improting important libraries\n",
        "import pandas as pd\n",
        "import numpy as np\n",
        "from sklearn.model_selection import train_test_split\n",
        "from sklearn.preprocessing import StandardScaler\n",
        "from sklearn.linear_model import LogisticRegression\n",
        "from sklearn.ensemble import RandomForestRegressor\n",
        "from sklearn.linear_model import LinearRegression, Ridge, Lasso\n",
        "from sklearn.metrics import mean_squared_error, r2_score\n",
        "from sklearn.preprocessing import LabelEncoder\n",
        "from sklearn.ensemble import RandomForestClassifier\n",
        "from sklearn.metrics import accuracy_score\n",
        "data_set = \"WineQT.csv\""
      ]
    },
    {
      "cell_type": "code",
      "source": [
        "#converting csv file into dataframe\n",
        "Data_frame = pd.read_csv(data_set)\n",
        "\n",
        "#data exploration steps\n",
        "print(Data_frame.head(5))\n",
        "Data_frame.info()"
      ],
      "metadata": {
        "colab": {
          "base_uri": "https://localhost:8080/"
        },
        "id": "fEmiO5Zi42rv",
        "outputId": "6329c3cf-0fcc-47fa-e426-454b513fcbad"
      },
      "execution_count": 10,
      "outputs": [
        {
          "output_type": "stream",
          "name": "stdout",
          "text": [
            "   fixed acidity  volatile acidity  citric acid  residual sugar  chlorides  \\\n",
            "0            7.4              0.70         0.00             1.9      0.076   \n",
            "1            7.8              0.88         0.00             2.6      0.098   \n",
            "2            7.8              0.76         0.04             2.3      0.092   \n",
            "3           11.2              0.28         0.56             1.9      0.075   \n",
            "4            7.4              0.70         0.00             1.9      0.076   \n",
            "\n",
            "   free sulfur dioxide  total sulfur dioxide  density    pH  sulphates  \\\n",
            "0                 11.0                  34.0   0.9978  3.51       0.56   \n",
            "1                 25.0                  67.0   0.9968  3.20       0.68   \n",
            "2                 15.0                  54.0   0.9970  3.26       0.65   \n",
            "3                 17.0                  60.0   0.9980  3.16       0.58   \n",
            "4                 11.0                  34.0   0.9978  3.51       0.56   \n",
            "\n",
            "   alcohol  quality  Id  \n",
            "0      9.4        5   0  \n",
            "1      9.8        5   1  \n",
            "2      9.8        5   2  \n",
            "3      9.8        6   3  \n",
            "4      9.4        5   4  \n",
            "<class 'pandas.core.frame.DataFrame'>\n",
            "RangeIndex: 1143 entries, 0 to 1142\n",
            "Data columns (total 13 columns):\n",
            " #   Column                Non-Null Count  Dtype  \n",
            "---  ------                --------------  -----  \n",
            " 0   fixed acidity         1143 non-null   float64\n",
            " 1   volatile acidity      1143 non-null   float64\n",
            " 2   citric acid           1143 non-null   float64\n",
            " 3   residual sugar        1143 non-null   float64\n",
            " 4   chlorides             1143 non-null   float64\n",
            " 5   free sulfur dioxide   1143 non-null   float64\n",
            " 6   total sulfur dioxide  1143 non-null   float64\n",
            " 7   density               1143 non-null   float64\n",
            " 8   pH                    1143 non-null   float64\n",
            " 9   sulphates             1143 non-null   float64\n",
            " 10  alcohol               1143 non-null   float64\n",
            " 11  quality               1143 non-null   int64  \n",
            " 12  Id                    1143 non-null   int64  \n",
            "dtypes: float64(11), int64(2)\n",
            "memory usage: 116.2 KB\n"
          ]
        }
      ]
    },
    {
      "cell_type": "code",
      "source": [
        "# Split the data into features X and target variable y\n",
        "feature_set = Data_frame.drop('quality', axis=1)\n",
        "target_class = Data_frame['quality']\n",
        "\n",
        "#split training and testing set\n",
        "training_features, testing_features, training_label, testing_label = train_test_split(feature_set, target_class, train_size=0.75, random_state=42)\n",
        "\n",
        "#normalizing the features using StandardScaler\n",
        "scaler = StandardScaler()\n",
        "scaled_trainfeatures = scaler.fit_transform(training_features)\n",
        "scaled_testfeatures = scaler.transform(testing_features)"
      ],
      "metadata": {
        "id": "C8x_qaK2AOuJ"
      },
      "execution_count": 12,
      "outputs": []
    },
    {
      "cell_type": "markdown",
      "source": [
        "We are going to assess various regression models to predict wine quality, comparing their performance using Root Mean Squared Error (RMSE). After preparing and splitting the dataset, models like Linear Regression, Ridge Regression, Lasso Regression, and Random Forest Regression to be trained and evaluated below, with the most accurate one selected based on RMSE.\n",
        "\n",
        "\n"
      ],
      "metadata": {
        "id": "r6M71IJYEF--"
      }
    },
    {
      "cell_type": "code",
      "source": [
        "# Initialize different regression models\n",
        "linear_reg = LinearRegression()\n",
        "ridge_reg = Ridge(alpha=1.0)\n",
        "lasso_reg = Lasso(alpha=1.0)\n",
        "random_forest_reg = RandomForestRegressor(n_estimators=100)\n",
        "\n",
        "# Train each model on the scaled training features and corresponding labels\n",
        "linear_reg.fit(scaled_trainfeatures, training_label)\n",
        "ridge_reg.fit(scaled_trainfeatures, training_label)\n",
        "lasso_reg.fit(scaled_trainfeatures, training_label)\n",
        "random_forest_reg.fit(scaled_trainfeatures, training_label)\n",
        "\n",
        "# Make predictions on the scaled testing features\n",
        "linear_reg_pred = linear_reg.predict(scaled_testfeatures)\n",
        "ridge_reg_pred = ridge_reg.predict(scaled_testfeatures)\n",
        "lasso_reg_pred = lasso_reg.predict(scaled_testfeatures)\n",
        "random_forest_reg_pred = random_forest_reg.predict(scaled_testfeatures)\n",
        "\n",
        "# Evaluate each model's performance using mean squared error (MSE)\n",
        "linear_reg_mse = mean_squared_error(testing_label, linear_reg_pred)\n",
        "ridge_reg_mse = mean_squared_error(testing_label, ridge_reg_pred)\n",
        "lasso_reg_mse = mean_squared_error(testing_label, lasso_reg_pred)\n",
        "random_forest_reg_mse = mean_squared_error(testing_label, random_forest_reg_pred)\n",
        "\n",
        "# Calculate RMSE for each model\n",
        "linear_reg_rmse = np.sqrt(mean_squared_error(testing_label, linear_reg_pred))\n",
        "ridge_reg_rmse = np.sqrt(mean_squared_error(testing_label, ridge_reg_pred))\n",
        "lasso_reg_rmse = np.sqrt(mean_squared_error(testing_label, lasso_reg_pred))\n",
        "random_forest_reg_rmse = np.sqrt(mean_squared_error(testing_label, random_forest_reg_pred))\n",
        "\n",
        "print(\"Linear Regression RMSE:\", linear_reg_rmse)\n",
        "print(\"Ridge Regression RMSE:\", ridge_reg_rmse)\n",
        "print(\"Lasso Regression RMSE:\", lasso_reg_rmse)\n",
        "print(\"Random Forest Regression RMSE:\", random_forest_reg_rmse)"
      ],
      "metadata": {
        "colab": {
          "base_uri": "https://localhost:8080/"
        },
        "id": "tfhlBSyiE1TE",
        "outputId": "ce339721-5f35-446a-af4e-91b9b4ab39fd"
      },
      "execution_count": 16,
      "outputs": [
        {
          "output_type": "stream",
          "name": "stdout",
          "text": [
            "Linear Regression RMSE: 0.6129365427029398\n",
            "Ridge Regression RMSE: 0.6128394083356609\n",
            "Lasso Regression RMSE: 0.7561017015609562\n",
            "Random Forest Regression RMSE: 0.5634657986903077\n"
          ]
        }
      ]
    },
    {
      "cell_type": "markdown",
      "source": [
        "We observe that the Random Forest Regression model has the lowest RMSE,which is 056, indicating good performance in predicting wine quality compared to the other models. Therefore, the Random Forest Regression model may be considered the most suitable for this regression task. Now we are going to apply classification models including randomforest and will comapre them."
      ],
      "metadata": {
        "id": "d3kna0TPPHNh"
      }
    },
    {
      "cell_type": "code",
      "source": [
        "# Encode wine quality into classes: low, medium, high\n",
        "label_encoder = LabelEncoder()\n",
        "wine_quality_classes = ['low', 'medium', 'high']\n",
        "quality_labels = label_encoder.fit_transform(pd.cut(Data_frame['quality'], bins=[0, 4, 6, 10], labels=wine_quality_classes, right=False))\n",
        "\n",
        "# Split the data into training and testing sets\n",
        "X_train, X_test, y_train, y_test = train_test_split(feature_set, quality_labels, train_size=0.75, random_state=42)\n",
        "\n",
        "# Train the Random Forest Classifier\n",
        "random_forest_classifier = RandomForestClassifier(n_estimators=100)\n",
        "random_forest_classifier.fit(X_train, y_train)\n",
        "\n",
        "# Make predictions on the test set\n",
        "y_pred = random_forest_classifier.predict(X_test)\n",
        "\n",
        "# Evaluate the performance of the model\n",
        "accuracy = accuracy_score(y_test, y_pred)\n",
        "print(\"Accuracy:\", accuracy)\n"
      ],
      "metadata": {
        "colab": {
          "base_uri": "https://localhost:8080/"
        },
        "id": "9DwmFGePNhek",
        "outputId": "9a11f26c-ec7a-409c-89de-9ad7da6a9e25"
      },
      "execution_count": 18,
      "outputs": [
        {
          "output_type": "stream",
          "name": "stdout",
          "text": [
            "Accuracy: 0.7832167832167832\n"
          ]
        }
      ]
    },
    {
      "cell_type": "code",
      "source": [
        "#Logistic Regression model\n",
        "logistic_reg = LogisticRegression()\n",
        "\n",
        "# Train the Logistic Regression model on the scaled training features and corresponding labels\n",
        "logistic_reg.fit(scaled_trainfeatures, training_label)\n",
        "\n",
        "# Make predictions on the scaled testing features\n",
        "logistic_reg_pred = logistic_reg.predict(scaled_testfeatures)\n",
        "\n",
        "# Evaluate the Logistic Regression model's performance using accuracy\n",
        "logistic_reg_accuracy = accuracy_score(testing_label, logistic_reg_pred)\n",
        "\n",
        "print(\"Logistic Regression Accuracy:\", logistic_reg_accuracy)"
      ],
      "metadata": {
        "colab": {
          "base_uri": "https://localhost:8080/"
        },
        "id": "mhm4GcZCQX2l",
        "outputId": "f55e531c-30ba-4b8a-ad43-97d7bdba8d90"
      },
      "execution_count": 19,
      "outputs": [
        {
          "output_type": "stream",
          "name": "stdout",
          "text": [
            "Logistic Regression Accuracy: 0.6363636363636364\n"
          ]
        }
      ]
    },
    {
      "cell_type": "markdown",
      "source": [
        "Among both Logistic regression and Random forest models, Random forest classifier gave the higher accuracy which is 0.78."
      ],
      "metadata": {
        "id": "woqA4qS0Qfkc"
      }
    }
  ]
}